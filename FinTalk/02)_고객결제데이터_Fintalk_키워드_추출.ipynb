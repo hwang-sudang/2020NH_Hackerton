{
  "nbformat": 4,
  "nbformat_minor": 0,
  "metadata": {
    "colab": {
      "name": "02) 고객결제데이터 Fintalk 키워드 추출.ipynb",
      "provenance": [],
      "collapsed_sections": [],
      "toc_visible": true,
      "include_colab_link": true
    },
    "kernelspec": {
      "name": "python3",
      "display_name": "Python 3"
    }
  },
  "cells": [
    {
      "cell_type": "markdown",
      "metadata": {
        "id": "view-in-github",
        "colab_type": "text"
      },
      "source": [
        "<a href=\"https://colab.research.google.com/github/hwang-sudang/2020NH_Hackerton/blob/main/FinTalk/02)_%EA%B3%A0%EA%B0%9D%EA%B2%B0%EC%A0%9C%EB%8D%B0%EC%9D%B4%ED%84%B0_Fintalk_%ED%82%A4%EC%9B%8C%EB%93%9C_%EC%B6%94%EC%B6%9C.ipynb\" target=\"_parent\"><img src=\"https://colab.research.google.com/assets/colab-badge.svg\" alt=\"Open In Colab\"/></a>"
      ]
    },
    {
      "cell_type": "markdown",
      "metadata": {
        "id": "3oEIkBFtBRzK"
      },
      "source": [
        "# 구글 드라이브 마운트, 데이터 갖고 오기"
      ]
    },
    {
      "cell_type": "code",
      "metadata": {
        "id": "pM0Fn_mx8PId",
        "colab": {
          "base_uri": "https://localhost:8080/"
        },
        "outputId": "aebbb702-800d-4e1d-85fd-e1551feb0f5d"
      },
      "source": [
        "# data 불러오기\n",
        "from google.colab import drive\n",
        "drive.mount('/content/drive/')"
      ],
      "execution_count": 1,
      "outputs": [
        {
          "output_type": "stream",
          "text": [
            "Mounted at /content/drive/\n"
          ],
          "name": "stdout"
        }
      ]
    },
    {
      "cell_type": "code",
      "metadata": {
        "colab": {
          "base_uri": "https://localhost:8080/"
        },
        "id": "VU6bNU1GBkmZ",
        "outputId": "553edcc0-c1da-4d9c-de7c-6af88ecb4225"
      },
      "source": [
        "cd /content/drive/MyDrive/fintech_academy/NH/FinTalk/Data"
      ],
      "execution_count": 2,
      "outputs": [
        {
          "output_type": "stream",
          "text": [
            "/content/drive/.shortcut-targets-by-id/1V2gi8nQQ9c7k8o9PqnCU4MpVq7zscd-C/fintech_academy/NH/FinTalk/Data\n"
          ],
          "name": "stdout"
        }
      ]
    },
    {
      "cell_type": "code",
      "metadata": {
        "colab": {
          "base_uri": "https://localhost:8080/",
          "height": 53
        },
        "id": "h5CN5vMTbKe2",
        "outputId": "5b824984-6db0-467a-b821-1d70b062d8dc"
      },
      "source": [
        "import pandas as pd\n",
        "import os\n",
        "os.getcwd()"
      ],
      "execution_count": 3,
      "outputs": [
        {
          "output_type": "execute_result",
          "data": {
            "application/vnd.google.colaboratory.intrinsic+json": {
              "type": "string"
            },
            "text/plain": [
              "'/content/drive/.shortcut-targets-by-id/1V2gi8nQQ9c7k8o9PqnCU4MpVq7zscd-C/fintech_academy/NH/FinTalk/Data'"
            ]
          },
          "metadata": {
            "tags": []
          },
          "execution_count": 3
        }
      ]
    },
    {
      "cell_type": "code",
      "metadata": {
        "colab": {
          "base_uri": "https://localhost:8080/"
        },
        "id": "tjrVNwImb4Uk",
        "outputId": "5248db35-c6b8-401c-b463-a545d2b4ef22"
      },
      "source": [
        "!ls"
      ],
      "execution_count": 4,
      "outputs": [
        {
          "output_type": "stream",
          "text": [
            " 202008_usage.xlsx\n",
            "'농협 주택화재보험_약관(20201101).doc'\n",
            "'농협 주택화재보험_약관(20201101).pdf'\n",
            " 202012_usage.xlsx\n",
            " card_all_data.xlsx\n",
            "'현대해상 여행자보험 약관.doc'\n",
            "'삼성화재 여행자보험.doc'\n",
            "'삼성화재 주택화재보험.doc'\n",
            "'한화생명 e연금저축보험(무)_1772-025_028_약관_20200401_           (2).doc'\n",
            " 보험링크.gdoc\n",
            "'IBK 연금저축형보험.txt'\n",
            " khaiii\n",
            "'NH온라인연금저축보험(무배당)_2002_인쇄용 약관_v1_0204.doc'\n",
            "'농협_무배당 NH지킴이재산종합보험2004_약관.doc'\n",
            "'농협_무배당 NH지킴이재산종합보험2004_약관.pdf'\n",
            " on-off여행자보험.gdoc\n",
            " on-off여행자보험.txt\n",
            "'현대해상 여행자보험 약관.pdf'\n",
            "'삼성화재 여행자보험.pdf'\n",
            "'삼성화재 주택화재보험.pdf'\n",
            " TF-IDF.docx\n",
            "'감성분석 링크.txt'\n",
            "'보험약관 TXT'\n",
            "'이용대금명세서(신용카드).xls'\n",
            " 여지헌카드내역.xlsx\n"
          ],
          "name": "stdout"
        }
      ]
    },
    {
      "cell_type": "markdown",
      "metadata": {
        "id": "ta2ZEBhQ3k_m"
      },
      "source": [
        "# 01) 카드 소비 데이터 키워드 대분류, 소분류 분류작업\n",
        "대분류, 소분류는 예시를 보여주기 위해 임의로 분류. 실무에서는 카드 결제 데이터 중 **업종코드**를 기준으로 키워드 대,소분류로 분류.\n",
        "- 대분류 : 음식, 쇼핑, 자동차, 건강, 문화\n",
        "- 소분류\n",
        "  - 음식 : 편의점, 식당, 카페\n",
        "  - 쇼핑 : 배달, 이커머스, 책\n",
        "  - 자동차 : 대중교통, 자차\n",
        "  - 건강 : 건강\n",
        "  - 문화 : 문화\n"
      ]
    },
    {
      "cell_type": "code",
      "metadata": {
        "colab": {
          "base_uri": "https://localhost:8080/",
          "height": 419
        },
        "id": "ixzyQSducFvQ",
        "outputId": "87ab0156-fe90-487f-c9f0-c507b86a7b97"
      },
      "source": [
        "# 카드 결제 데이터 불러오기\n",
        "card_all_data = pd.read_excel(\"card_all_data.xlsx\")\n",
        "card_all_data"
      ],
      "execution_count": 5,
      "outputs": [
        {
          "output_type": "execute_result",
          "data": {
            "text/html": [
              "<div>\n",
              "<style scoped>\n",
              "    .dataframe tbody tr th:only-of-type {\n",
              "        vertical-align: middle;\n",
              "    }\n",
              "\n",
              "    .dataframe tbody tr th {\n",
              "        vertical-align: top;\n",
              "    }\n",
              "\n",
              "    .dataframe thead th {\n",
              "        text-align: right;\n",
              "    }\n",
              "</style>\n",
              "<table border=\"1\" class=\"dataframe\">\n",
              "  <thead>\n",
              "    <tr style=\"text-align: right;\">\n",
              "      <th></th>\n",
              "      <th>Unnamed: 0</th>\n",
              "      <th>이용일자</th>\n",
              "      <th>이용카드</th>\n",
              "      <th>가맹점</th>\n",
              "      <th>이용금액</th>\n",
              "    </tr>\n",
              "  </thead>\n",
              "  <tbody>\n",
              "    <tr>\n",
              "      <th>0</th>\n",
              "      <td>0</td>\n",
              "      <td>20.10.27</td>\n",
              "      <td>마스터078</td>\n",
              "      <td>씨유 광명양지마을점</td>\n",
              "      <td>3,000</td>\n",
              "    </tr>\n",
              "    <tr>\n",
              "      <th>1</th>\n",
              "      <td>1</td>\n",
              "      <td>20.10.28</td>\n",
              "      <td>마스터078</td>\n",
              "      <td>NICE(빌링)-(주)모두의주차장</td>\n",
              "      <td>5,000</td>\n",
              "    </tr>\n",
              "    <tr>\n",
              "      <th>2</th>\n",
              "      <td>2</td>\n",
              "      <td>20.10.28</td>\n",
              "      <td>마스터078</td>\n",
              "      <td>택이네 조개전골 종로점</td>\n",
              "      <td>45,000</td>\n",
              "    </tr>\n",
              "    <tr>\n",
              "      <th>3</th>\n",
              "      <td>3</td>\n",
              "      <td>20.10.28</td>\n",
              "      <td>마스터078</td>\n",
              "      <td>교보문고</td>\n",
              "      <td>22,000</td>\n",
              "    </tr>\n",
              "    <tr>\n",
              "      <th>4</th>\n",
              "      <td>4</td>\n",
              "      <td>20.10.31</td>\n",
              "      <td>마스터078</td>\n",
              "      <td>안양원예농업협동조합 주유소</td>\n",
              "      <td>10,000</td>\n",
              "    </tr>\n",
              "    <tr>\n",
              "      <th>...</th>\n",
              "      <td>...</td>\n",
              "      <td>...</td>\n",
              "      <td>...</td>\n",
              "      <td>...</td>\n",
              "      <td>...</td>\n",
              "    </tr>\n",
              "    <tr>\n",
              "      <th>90</th>\n",
              "      <td>90</td>\n",
              "      <td>20.07.25</td>\n",
              "      <td>마스터078</td>\n",
              "      <td>제임스헤어</td>\n",
              "      <td>13,000</td>\n",
              "    </tr>\n",
              "    <tr>\n",
              "      <th>91</th>\n",
              "      <td>91</td>\n",
              "      <td>20.07.26</td>\n",
              "      <td>마스터078</td>\n",
              "      <td>요거프레소하안두산위브점</td>\n",
              "      <td>7,000</td>\n",
              "    </tr>\n",
              "    <tr>\n",
              "      <th>92</th>\n",
              "      <td>92</td>\n",
              "      <td>20.07.26</td>\n",
              "      <td>마스터078</td>\n",
              "      <td>요거프레소하안두산위브점</td>\n",
              "      <td>1,000</td>\n",
              "    </tr>\n",
              "    <tr>\n",
              "      <th>93</th>\n",
              "      <td>93</td>\n",
              "      <td>20.07.26</td>\n",
              "      <td>마스터078</td>\n",
              "      <td>재단법인 태성문화재단</td>\n",
              "      <td>100</td>\n",
              "    </tr>\n",
              "    <tr>\n",
              "      <th>94</th>\n",
              "      <td>94</td>\n",
              "      <td>20.06.30</td>\n",
              "      <td>마스터078</td>\n",
              "      <td>(주)에스에스지닷컴</td>\n",
              "      <td>121,601</td>\n",
              "    </tr>\n",
              "  </tbody>\n",
              "</table>\n",
              "<p>95 rows × 5 columns</p>\n",
              "</div>"
            ],
            "text/plain": [
              "    Unnamed: 0      이용일자    이용카드                 가맹점     이용금액\n",
              "0            0  20.10.27  마스터078          씨유 광명양지마을점    3,000\n",
              "1            1  20.10.28  마스터078  NICE(빌링)-(주)모두의주차장    5,000\n",
              "2            2  20.10.28  마스터078        택이네 조개전골 종로점   45,000\n",
              "3            3  20.10.28  마스터078                교보문고   22,000\n",
              "4            4  20.10.31  마스터078      안양원예농업협동조합 주유소   10,000\n",
              "..         ...       ...     ...                 ...      ...\n",
              "90          90  20.07.25  마스터078               제임스헤어   13,000\n",
              "91          91  20.07.26  마스터078        요거프레소하안두산위브점    7,000\n",
              "92          92  20.07.26  마스터078        요거프레소하안두산위브점    1,000\n",
              "93          93  20.07.26  마스터078         재단법인 태성문화재단      100\n",
              "94          94  20.06.30  마스터078          (주)에스에스지닷컴  121,601\n",
              "\n",
              "[95 rows x 5 columns]"
            ]
          },
          "metadata": {
            "tags": []
          },
          "execution_count": 5
        }
      ]
    },
    {
      "cell_type": "code",
      "metadata": {
        "colab": {
          "base_uri": "https://localhost:8080/",
          "height": 419
        },
        "id": "qW-RepUCcfJS",
        "outputId": "08b3bb44-cd5c-4124-fd6b-ca71cdbb2bbc"
      },
      "source": [
        "# 필요한 정보인 가맹점, 이용금액만 추출\n",
        "card_df = card_all_data[[\"가맹점\", \"이용금액\"]]\n",
        "card_df"
      ],
      "execution_count": 6,
      "outputs": [
        {
          "output_type": "execute_result",
          "data": {
            "text/html": [
              "<div>\n",
              "<style scoped>\n",
              "    .dataframe tbody tr th:only-of-type {\n",
              "        vertical-align: middle;\n",
              "    }\n",
              "\n",
              "    .dataframe tbody tr th {\n",
              "        vertical-align: top;\n",
              "    }\n",
              "\n",
              "    .dataframe thead th {\n",
              "        text-align: right;\n",
              "    }\n",
              "</style>\n",
              "<table border=\"1\" class=\"dataframe\">\n",
              "  <thead>\n",
              "    <tr style=\"text-align: right;\">\n",
              "      <th></th>\n",
              "      <th>가맹점</th>\n",
              "      <th>이용금액</th>\n",
              "    </tr>\n",
              "  </thead>\n",
              "  <tbody>\n",
              "    <tr>\n",
              "      <th>0</th>\n",
              "      <td>씨유 광명양지마을점</td>\n",
              "      <td>3,000</td>\n",
              "    </tr>\n",
              "    <tr>\n",
              "      <th>1</th>\n",
              "      <td>NICE(빌링)-(주)모두의주차장</td>\n",
              "      <td>5,000</td>\n",
              "    </tr>\n",
              "    <tr>\n",
              "      <th>2</th>\n",
              "      <td>택이네 조개전골 종로점</td>\n",
              "      <td>45,000</td>\n",
              "    </tr>\n",
              "    <tr>\n",
              "      <th>3</th>\n",
              "      <td>교보문고</td>\n",
              "      <td>22,000</td>\n",
              "    </tr>\n",
              "    <tr>\n",
              "      <th>4</th>\n",
              "      <td>안양원예농업협동조합 주유소</td>\n",
              "      <td>10,000</td>\n",
              "    </tr>\n",
              "    <tr>\n",
              "      <th>...</th>\n",
              "      <td>...</td>\n",
              "      <td>...</td>\n",
              "    </tr>\n",
              "    <tr>\n",
              "      <th>90</th>\n",
              "      <td>제임스헤어</td>\n",
              "      <td>13,000</td>\n",
              "    </tr>\n",
              "    <tr>\n",
              "      <th>91</th>\n",
              "      <td>요거프레소하안두산위브점</td>\n",
              "      <td>7,000</td>\n",
              "    </tr>\n",
              "    <tr>\n",
              "      <th>92</th>\n",
              "      <td>요거프레소하안두산위브점</td>\n",
              "      <td>1,000</td>\n",
              "    </tr>\n",
              "    <tr>\n",
              "      <th>93</th>\n",
              "      <td>재단법인 태성문화재단</td>\n",
              "      <td>100</td>\n",
              "    </tr>\n",
              "    <tr>\n",
              "      <th>94</th>\n",
              "      <td>(주)에스에스지닷컴</td>\n",
              "      <td>121,601</td>\n",
              "    </tr>\n",
              "  </tbody>\n",
              "</table>\n",
              "<p>95 rows × 2 columns</p>\n",
              "</div>"
            ],
            "text/plain": [
              "                   가맹점     이용금액\n",
              "0           씨유 광명양지마을점    3,000\n",
              "1   NICE(빌링)-(주)모두의주차장    5,000\n",
              "2         택이네 조개전골 종로점   45,000\n",
              "3                 교보문고   22,000\n",
              "4       안양원예농업협동조합 주유소   10,000\n",
              "..                 ...      ...\n",
              "90               제임스헤어   13,000\n",
              "91        요거프레소하안두산위브점    7,000\n",
              "92        요거프레소하안두산위브점    1,000\n",
              "93         재단법인 태성문화재단      100\n",
              "94          (주)에스에스지닷컴  121,601\n",
              "\n",
              "[95 rows x 2 columns]"
            ]
          },
          "metadata": {
            "tags": []
          },
          "execution_count": 6
        }
      ]
    },
    {
      "cell_type": "code",
      "metadata": {
        "colab": {
          "base_uri": "https://localhost:8080/"
        },
        "id": "fjUv2b8yc18X",
        "outputId": "04534cc6-3c2a-4c21-f29c-9b7b159cbf16"
      },
      "source": [
        "# 가맹점 고유 갯수 확인\n",
        "store_list = card_df[\"가맹점\"].unique()\n",
        "len(store_list)"
      ],
      "execution_count": 7,
      "outputs": [
        {
          "output_type": "execute_result",
          "data": {
            "text/plain": [
              "68"
            ]
          },
          "metadata": {
            "tags": []
          },
          "execution_count": 7
        }
      ]
    },
    {
      "cell_type": "code",
      "metadata": {
        "id": "yWg71fPX0oQh"
      },
      "source": [
        "# 가맹점열 raw data 내의 필요 없는 문자 제거\n",
        "for i in card_df[\"가맹점\"]:\n",
        "  i = i.replace(\"\\xa0\",\"\")"
      ],
      "execution_count": 8,
      "outputs": []
    },
    {
      "cell_type": "code",
      "metadata": {
        "id": "YEVxdsqod83c"
      },
      "source": [
        "# 대분류 소분류 딕셔너리 : 데이터 구조상 사람이 임의로 분류 --> 실무에서는 업종코드로 대,소분류 가능.\n",
        "dic = {\"음식\": {\n",
        "\"편의점\":[\"씨유\",\"지에스(GS)25\"],\n",
        "\"식당\":[\"조개전골\",\"쉐이크쉑\",\"한양중식\",\"미미옥\",\"60계치킨\",\"스시장\",\"여의도권초밥\",\"바르다김선생\",\"고반식당\",\"진주식당\",\"주식회사동빙고루시파이\",\"교촌치킨\", \"갓잇\", \"빌즈\",\"노메\"],\n",
        "\"카페\": [\"파스쿠찌\",\"투썸플레이스\", \"스타벅스\", \"커피온더스트릿\", \"파리바게뜨\", \"달콤커피\", \"요거프레소\"]},\n",
        "\"자동차\": {\"대중교통\":[\"지하철\",\"버스\",\"한국철도공사\",\"철도\"], \"자차\":[\"주차\",\"주차장\",\"아마노코리아\",\"터널\",\"파킹\",\"주유소\"],\n",
        "\"렌트카\": [\"그린카\"]},\n",
        "\"쇼핑\" : {\n",
        "\"배달\":[\"(주)우아한형제들\"],\"이커머스\":[\"쿠팡\",\"11번가\",\"롯데쇼핑\",\"티몬\",\"위메프\",\"(주)에스에스지닷컴\"],\n",
        "\"책\":[\"교보문고\", \"오피스디포\"],\"간편결제\":[\"모빌PG\", \"인터넷상거래\", \"KICC\", \"크린에이드\", \"카카오페이\",\"스마트로\", \"이니시스\"]},\n",
        "\"건강\" : {\"건강\" : [\"치과\",\"약국\"]},\n",
        "\"문화\" : {\"문화\": [\"재단법인\",\"랭귀지랩\",\"서울올림픽기념국민체육진흥공단\"]}}"
      ],
      "execution_count": 79,
      "outputs": []
    },
    {
      "cell_type": "code",
      "metadata": {
        "colab": {
          "base_uri": "https://localhost:8080/",
          "height": 514
        },
        "id": "XBhpAklH5oLX",
        "outputId": "6cecbf33-d9e1-4091-d1c2-87ad2988dd2e"
      },
      "source": [
        "dic_df = pd.DataFrame([(k0, k1, v) for k0, d in dic.items() for k1, V in d.items() for v in V])\n",
        "dic_df.head(15)"
      ],
      "execution_count": 80,
      "outputs": [
        {
          "output_type": "execute_result",
          "data": {
            "text/html": [
              "<div>\n",
              "<style scoped>\n",
              "    .dataframe tbody tr th:only-of-type {\n",
              "        vertical-align: middle;\n",
              "    }\n",
              "\n",
              "    .dataframe tbody tr th {\n",
              "        vertical-align: top;\n",
              "    }\n",
              "\n",
              "    .dataframe thead th {\n",
              "        text-align: right;\n",
              "    }\n",
              "</style>\n",
              "<table border=\"1\" class=\"dataframe\">\n",
              "  <thead>\n",
              "    <tr style=\"text-align: right;\">\n",
              "      <th></th>\n",
              "      <th>0</th>\n",
              "      <th>1</th>\n",
              "      <th>2</th>\n",
              "    </tr>\n",
              "  </thead>\n",
              "  <tbody>\n",
              "    <tr>\n",
              "      <th>0</th>\n",
              "      <td>음식</td>\n",
              "      <td>편의점</td>\n",
              "      <td>씨유</td>\n",
              "    </tr>\n",
              "    <tr>\n",
              "      <th>1</th>\n",
              "      <td>음식</td>\n",
              "      <td>편의점</td>\n",
              "      <td>지에스(GS)25</td>\n",
              "    </tr>\n",
              "    <tr>\n",
              "      <th>2</th>\n",
              "      <td>음식</td>\n",
              "      <td>식당</td>\n",
              "      <td>조개전골</td>\n",
              "    </tr>\n",
              "    <tr>\n",
              "      <th>3</th>\n",
              "      <td>음식</td>\n",
              "      <td>식당</td>\n",
              "      <td>쉐이크쉑</td>\n",
              "    </tr>\n",
              "    <tr>\n",
              "      <th>4</th>\n",
              "      <td>음식</td>\n",
              "      <td>식당</td>\n",
              "      <td>한양중식</td>\n",
              "    </tr>\n",
              "    <tr>\n",
              "      <th>5</th>\n",
              "      <td>음식</td>\n",
              "      <td>식당</td>\n",
              "      <td>미미옥</td>\n",
              "    </tr>\n",
              "    <tr>\n",
              "      <th>6</th>\n",
              "      <td>음식</td>\n",
              "      <td>식당</td>\n",
              "      <td>60계치킨</td>\n",
              "    </tr>\n",
              "    <tr>\n",
              "      <th>7</th>\n",
              "      <td>음식</td>\n",
              "      <td>식당</td>\n",
              "      <td>스시장</td>\n",
              "    </tr>\n",
              "    <tr>\n",
              "      <th>8</th>\n",
              "      <td>음식</td>\n",
              "      <td>식당</td>\n",
              "      <td>여의도권초밥</td>\n",
              "    </tr>\n",
              "    <tr>\n",
              "      <th>9</th>\n",
              "      <td>음식</td>\n",
              "      <td>식당</td>\n",
              "      <td>바르다김선생</td>\n",
              "    </tr>\n",
              "    <tr>\n",
              "      <th>10</th>\n",
              "      <td>음식</td>\n",
              "      <td>식당</td>\n",
              "      <td>고반식당</td>\n",
              "    </tr>\n",
              "    <tr>\n",
              "      <th>11</th>\n",
              "      <td>음식</td>\n",
              "      <td>식당</td>\n",
              "      <td>진주식당</td>\n",
              "    </tr>\n",
              "    <tr>\n",
              "      <th>12</th>\n",
              "      <td>음식</td>\n",
              "      <td>식당</td>\n",
              "      <td>주식회사동빙고루시파이</td>\n",
              "    </tr>\n",
              "    <tr>\n",
              "      <th>13</th>\n",
              "      <td>음식</td>\n",
              "      <td>식당</td>\n",
              "      <td>교촌치킨</td>\n",
              "    </tr>\n",
              "    <tr>\n",
              "      <th>14</th>\n",
              "      <td>음식</td>\n",
              "      <td>식당</td>\n",
              "      <td>갓잇</td>\n",
              "    </tr>\n",
              "  </tbody>\n",
              "</table>\n",
              "</div>"
            ],
            "text/plain": [
              "     0    1            2\n",
              "0   음식  편의점           씨유\n",
              "1   음식  편의점    지에스(GS)25\n",
              "2   음식   식당         조개전골\n",
              "3   음식   식당         쉐이크쉑\n",
              "4   음식   식당         한양중식\n",
              "5   음식   식당          미미옥\n",
              "6   음식   식당        60계치킨\n",
              "7   음식   식당          스시장\n",
              "8   음식   식당       여의도권초밥\n",
              "9   음식   식당       바르다김선생\n",
              "10  음식   식당         고반식당\n",
              "11  음식   식당         진주식당\n",
              "12  음식   식당  주식회사동빙고루시파이\n",
              "13  음식   식당         교촌치킨\n",
              "14  음식   식당           갓잇"
            ]
          },
          "metadata": {
            "tags": []
          },
          "execution_count": 80
        }
      ]
    },
    {
      "cell_type": "code",
      "metadata": {
        "id": "Mc3t-fh-5oFF",
        "colab": {
          "base_uri": "https://localhost:8080/",
          "height": 419
        },
        "outputId": "1583192e-3ac7-4efb-cb57-37aaa6bbbf65"
      },
      "source": [
        "# dic_df 기준으로 card_df 분류하기\n",
        "class_list = []\n",
        "\n",
        "#([(k0, k1, v) for k0, d in dic.items() for k1, V in d.items() for v in V])\n",
        "\n",
        "for idx, dic in dic_df.iterrows():\n",
        "  for idx2, store in card_df.iterrows():\n",
        "    # 추후 계산을 위해 숫자형식 str > int \n",
        "    if type(store[\"이용금액\"])==str : \n",
        "      tmp = (store[\"이용금액\"]).replace(\",\",\"\")\n",
        "      store[\"이용금액\"] = int(tmp)\n",
        "\n",
        "    if dic[2] in store[\"가맹점\"]:\n",
        "      tmp = {\"대분류\": dic[0], \"소분류\": dic[1], \"가맹점\": store[\"가맹점\"], \"이용금액\" : store[\"이용금액\"] }\n",
        "      class_list.append(tmp)\n",
        "      \n",
        "\n",
        "class_df = pd.DataFrame(class_list)\n",
        "class_df\n"
      ],
      "execution_count": 24,
      "outputs": [
        {
          "output_type": "execute_result",
          "data": {
            "text/html": [
              "<div>\n",
              "<style scoped>\n",
              "    .dataframe tbody tr th:only-of-type {\n",
              "        vertical-align: middle;\n",
              "    }\n",
              "\n",
              "    .dataframe tbody tr th {\n",
              "        vertical-align: top;\n",
              "    }\n",
              "\n",
              "    .dataframe thead th {\n",
              "        text-align: right;\n",
              "    }\n",
              "</style>\n",
              "<table border=\"1\" class=\"dataframe\">\n",
              "  <thead>\n",
              "    <tr style=\"text-align: right;\">\n",
              "      <th></th>\n",
              "      <th>대분류</th>\n",
              "      <th>소분류</th>\n",
              "      <th>가맹점</th>\n",
              "      <th>이용금액</th>\n",
              "    </tr>\n",
              "  </thead>\n",
              "  <tbody>\n",
              "    <tr>\n",
              "      <th>0</th>\n",
              "      <td>음식</td>\n",
              "      <td>편의점</td>\n",
              "      <td>씨유 광명양지마을점</td>\n",
              "      <td>3000</td>\n",
              "    </tr>\n",
              "    <tr>\n",
              "      <th>1</th>\n",
              "      <td>음식</td>\n",
              "      <td>편의점</td>\n",
              "      <td>지에스(GS)25 신길역점</td>\n",
              "      <td>1800</td>\n",
              "    </tr>\n",
              "    <tr>\n",
              "      <th>2</th>\n",
              "      <td>음식</td>\n",
              "      <td>식당</td>\n",
              "      <td>택이네 조개전골 종로점</td>\n",
              "      <td>45000</td>\n",
              "    </tr>\n",
              "    <tr>\n",
              "      <th>3</th>\n",
              "      <td>음식</td>\n",
              "      <td>식당</td>\n",
              "      <td>쉐이크쉑 반포센트럴시티점</td>\n",
              "      <td>30000</td>\n",
              "    </tr>\n",
              "    <tr>\n",
              "      <th>4</th>\n",
              "      <td>음식</td>\n",
              "      <td>식당</td>\n",
              "      <td>한양중식</td>\n",
              "      <td>9500</td>\n",
              "    </tr>\n",
              "    <tr>\n",
              "      <th>...</th>\n",
              "      <td>...</td>\n",
              "      <td>...</td>\n",
              "      <td>...</td>\n",
              "      <td>...</td>\n",
              "    </tr>\n",
              "    <tr>\n",
              "      <th>97</th>\n",
              "      <td>건강</td>\n",
              "      <td>건강</td>\n",
              "      <td>광명파란문약국</td>\n",
              "      <td>3900</td>\n",
              "    </tr>\n",
              "    <tr>\n",
              "      <th>98</th>\n",
              "      <td>건강</td>\n",
              "      <td>건강</td>\n",
              "      <td>행복한수약국</td>\n",
              "      <td>4400</td>\n",
              "    </tr>\n",
              "    <tr>\n",
              "      <th>99</th>\n",
              "      <td>문화</td>\n",
              "      <td>문화</td>\n",
              "      <td>재단법인 태성문화재단</td>\n",
              "      <td>100</td>\n",
              "    </tr>\n",
              "    <tr>\n",
              "      <th>100</th>\n",
              "      <td>문화</td>\n",
              "      <td>문화</td>\n",
              "      <td>랭귀지랩(LanguageLab)</td>\n",
              "      <td>3000</td>\n",
              "    </tr>\n",
              "    <tr>\n",
              "      <th>101</th>\n",
              "      <td>문화</td>\n",
              "      <td>문화</td>\n",
              "      <td>서울올림픽기념국민체육진흥공단</td>\n",
              "      <td>4500</td>\n",
              "    </tr>\n",
              "  </tbody>\n",
              "</table>\n",
              "<p>102 rows × 4 columns</p>\n",
              "</div>"
            ],
            "text/plain": [
              "    대분류  소분류                가맹점   이용금액\n",
              "0    음식  편의점         씨유 광명양지마을점   3000\n",
              "1    음식  편의점     지에스(GS)25 신길역점   1800\n",
              "2    음식   식당       택이네 조개전골 종로점  45000\n",
              "3    음식   식당      쉐이크쉑 반포센트럴시티점  30000\n",
              "4    음식   식당               한양중식   9500\n",
              "..   ..  ...                ...    ...\n",
              "97   건강   건강            광명파란문약국   3900\n",
              "98   건강   건강             행복한수약국   4400\n",
              "99   문화   문화        재단법인 태성문화재단    100\n",
              "100  문화   문화  랭귀지랩(LanguageLab)   3000\n",
              "101  문화   문화    서울올림픽기념국민체육진흥공단   4500\n",
              "\n",
              "[102 rows x 4 columns]"
            ]
          },
          "metadata": {
            "tags": []
          },
          "execution_count": 24
        }
      ]
    },
    {
      "cell_type": "code",
      "metadata": {
        "id": "VSPJtpJz6WgK",
        "colab": {
          "base_uri": "https://localhost:8080/",
          "height": 452
        },
        "outputId": "0e03d591-83ee-4eaf-fb7e-a03c49528c00"
      },
      "source": [
        "# 소분류 별로 이용금액 산출\n",
        "grouped = class_df[\"이용금액\"].groupby([class_df[\"대분류\"],class_df[\"소분류\"]]).sum()\n",
        "grouped = pd.DataFrame(grouped)\n",
        "# grouped.columns.drop_level([1,2])\n",
        "grouped[\"소비점유율\"]= round(grouped[\"이용금액\"]/grouped[\"이용금액\"].sum(),4)\n",
        "\n",
        "\n",
        "# grouped[\"소비점유율\"]=(\"%0.2f%%\" % (grouped[\"이용금액\"]/grouped[\"이용금액\"].sum()))\n",
        "grouped "
      ],
      "execution_count": 46,
      "outputs": [
        {
          "output_type": "execute_result",
          "data": {
            "text/html": [
              "<div>\n",
              "<style scoped>\n",
              "    .dataframe tbody tr th:only-of-type {\n",
              "        vertical-align: middle;\n",
              "    }\n",
              "\n",
              "    .dataframe tbody tr th {\n",
              "        vertical-align: top;\n",
              "    }\n",
              "\n",
              "    .dataframe thead th {\n",
              "        text-align: right;\n",
              "    }\n",
              "</style>\n",
              "<table border=\"1\" class=\"dataframe\">\n",
              "  <thead>\n",
              "    <tr style=\"text-align: right;\">\n",
              "      <th></th>\n",
              "      <th></th>\n",
              "      <th>이용금액</th>\n",
              "      <th>소비점유율</th>\n",
              "    </tr>\n",
              "    <tr>\n",
              "      <th>대분류</th>\n",
              "      <th>소분류</th>\n",
              "      <th></th>\n",
              "      <th></th>\n",
              "    </tr>\n",
              "  </thead>\n",
              "  <tbody>\n",
              "    <tr>\n",
              "      <th>건강</th>\n",
              "      <th>건강</th>\n",
              "      <td>17100</td>\n",
              "      <td>0.0145</td>\n",
              "    </tr>\n",
              "    <tr>\n",
              "      <th>문화</th>\n",
              "      <th>문화</th>\n",
              "      <td>7600</td>\n",
              "      <td>0.0064</td>\n",
              "    </tr>\n",
              "    <tr>\n",
              "      <th rowspan=\"4\" valign=\"top\">쇼핑</th>\n",
              "      <th>간편결제</th>\n",
              "      <td>98000</td>\n",
              "      <td>0.0830</td>\n",
              "    </tr>\n",
              "    <tr>\n",
              "      <th>배달</th>\n",
              "      <td>31848</td>\n",
              "      <td>0.0270</td>\n",
              "    </tr>\n",
              "    <tr>\n",
              "      <th>이커머스</th>\n",
              "      <td>231273</td>\n",
              "      <td>0.1958</td>\n",
              "    </tr>\n",
              "    <tr>\n",
              "      <th>책</th>\n",
              "      <td>51590</td>\n",
              "      <td>0.0437</td>\n",
              "    </tr>\n",
              "    <tr>\n",
              "      <th rowspan=\"3\" valign=\"top\">음식</th>\n",
              "      <th>식당</th>\n",
              "      <td>449100</td>\n",
              "      <td>0.3801</td>\n",
              "    </tr>\n",
              "    <tr>\n",
              "      <th>카페</th>\n",
              "      <td>86800</td>\n",
              "      <td>0.0735</td>\n",
              "    </tr>\n",
              "    <tr>\n",
              "      <th>편의점</th>\n",
              "      <td>4800</td>\n",
              "      <td>0.0041</td>\n",
              "    </tr>\n",
              "    <tr>\n",
              "      <th rowspan=\"3\" valign=\"top\">자동차</th>\n",
              "      <th>대중교통</th>\n",
              "      <td>104650</td>\n",
              "      <td>0.0886</td>\n",
              "    </tr>\n",
              "    <tr>\n",
              "      <th>렌트카</th>\n",
              "      <td>18616</td>\n",
              "      <td>0.0158</td>\n",
              "    </tr>\n",
              "    <tr>\n",
              "      <th>자차</th>\n",
              "      <td>80000</td>\n",
              "      <td>0.0677</td>\n",
              "    </tr>\n",
              "  </tbody>\n",
              "</table>\n",
              "</div>"
            ],
            "text/plain": [
              "            이용금액   소비점유율\n",
              "대분류 소분류                 \n",
              "건강  건강     17100  0.0145\n",
              "문화  문화      7600  0.0064\n",
              "쇼핑  간편결제   98000  0.0830\n",
              "    배달     31848  0.0270\n",
              "    이커머스  231273  0.1958\n",
              "    책      51590  0.0437\n",
              "음식  식당    449100  0.3801\n",
              "    카페     86800  0.0735\n",
              "    편의점     4800  0.0041\n",
              "자동차 대중교통  104650  0.0886\n",
              "    렌트카    18616  0.0158\n",
              "    자차     80000  0.0677"
            ]
          },
          "metadata": {
            "tags": []
          },
          "execution_count": 46
        }
      ]
    },
    {
      "cell_type": "markdown",
      "metadata": {
        "id": "vpkt5jnKENVZ"
      },
      "source": [
        "# 01) 소분류를 기준으로 고객 분석 결과\n",
        "## 주 소비군에서 키워드 선정\n",
        "1. 식당 **>** #외식을 자주하는\n",
        "2. 이커머스 **>** #쇼퍼홀릭\n",
        "3. 대중교통 **>** #뚜벅이\n",
        "\n",
        "## 실제 카드사에서 제공하는 데이터를 활용하면\n",
        "- 업종코드별로 키워드를 객관적으로 지정하기 쉬울 것으로 기대된다. \n",
        "- 또한, 가맹점 정보가 더 많고 다양할수록 소분류 체계를 더욱 세분화 시킬 수 있을 것이다.\n",
        "- 이러한 키워드 서칭 작업은 초기에는 마케팅, 기획 부서에서 인간의 주관에 따라 분류하고, 충분히 키워드 분류체계 라벨링 데이터가 확보되면 기계학습 분류 알고리즘으로 자동화 가능할 것이다.\n"
      ]
    },
    {
      "cell_type": "markdown",
      "metadata": {
        "id": "TBmXzSq1F3L8"
      },
      "source": [
        "# 02) 가맹점 데이터 형태소 분석을 통한 키워드 추출"
      ]
    },
    {
      "cell_type": "markdown",
      "metadata": {
        "id": "HaWNeohgIf5v"
      },
      "source": [
        "### 형태소 분석기 사용을 위한 세팅"
      ]
    },
    {
      "cell_type": "code",
      "metadata": {
        "id": "snkOBZ7z6Wig",
        "colab": {
          "base_uri": "https://localhost:8080/"
        },
        "outputId": "acf448d5-999e-4744-d705-f59f9bf2f07d"
      },
      "source": [
        "# 한글 표현을 위해 폰트 설치\n",
        "import matplotlib.pyplot as plt\n",
        "import matplotlib as mpl\n",
        "import matplotlib.font_manager as fm\n",
        "\n",
        "\n",
        "# 그래프에서 한글표현을 위해 폰트를 설치\n",
        "%config inlineBackend.figure_format = \"retina\"\n",
        "!apt-get -qq -y install fonts-nanum > /dev/null\n",
        "fontpath = '/usr/share/fonts/truetype/nanum/NanumBarunGothic.ttf'\n",
        "font = fm.FontProperties(fname=fontpath, size=9)\n",
        "\n",
        "# 기본 글꼴 변경\n",
        "mpl.pyplot.rc('font', family='NanumBarunGothic')\n",
        "mpl.font_manager._rebuild()"
      ],
      "execution_count": 42,
      "outputs": [
        {
          "output_type": "execute_result",
          "data": {
            "text/plain": [
              "1181377"
            ]
          },
          "metadata": {
            "tags": []
          },
          "execution_count": 42
        }
      ]
    },
    {
      "cell_type": "code",
      "metadata": {
        "id": "QJpb5pINJNJd"
      },
      "source": [
        "# 형태소분석기 관련 설치\n",
        "!apt-get update\n",
        "!apt-get install g++ openjdk-8-jdk\n",
        "\n",
        "!pip install JPype1==0.7.4\n",
        "!pip install rhinoMorph"
      ],
      "execution_count": null,
      "outputs": []
    },
    {
      "cell_type": "markdown",
      "metadata": {
        "id": "fv0YvX0qIkbV"
      },
      "source": [
        "## 형태소 분석 코드 시작\n",
        "최빈 형태소를 기준으로 Fin-Talk 키워드를 뽑아낸다."
      ]
    },
    {
      "cell_type": "code",
      "metadata": {
        "colab": {
          "base_uri": "https://localhost:8080/"
        },
        "id": "wrHqYhUJI3Br",
        "outputId": "ada23309-b77e-422a-ec22-2eba19ba487d"
      },
      "source": [
        "import rhinoMorph\n",
        "rn = rhinoMorph.startRhino()\n",
        "\n",
        "text=\"서울올림픽기념국민체육진흥공단\"\n",
        "\n",
        "morphs, poses = rhinoMorph.wholeResult_list(rn, text)\n",
        "\n",
        "\n",
        "# text_analyzed = rhinoMorph.wholeResult_text(rn, text)\n",
        "# print('\\n.형태소 분석 결과:\\n', text_analyzed)\n",
        "print(morphs)"
      ],
      "execution_count": 53,
      "outputs": [
        {
          "output_type": "stream",
          "text": [
            "filepath:  /usr/local/lib/python3.6/dist-packages\n",
            "classpath:  /usr/local/lib/python3.6/dist-packages/rhinoMorph/lib/rhino.jar\n",
            "JVM is already started~\n",
            "RHINO started!\n",
            "['서울', '올림픽', '기념', '국민체육진흥공단']\n"
          ],
          "name": "stdout"
        }
      ]
    },
    {
      "cell_type": "code",
      "metadata": {
        "colab": {
          "base_uri": "https://localhost:8080/",
          "height": 419
        },
        "id": "J6dAK7QnEMgy",
        "outputId": "14384397-088e-4dc2-ed5b-00839e36c8a1"
      },
      "source": [
        "# 가맹점 텍스트를 형태소 단위로 자르기\n",
        "morphs_list = []\n",
        "\n",
        "for idx, row in class_df.iterrows():\n",
        "  text = row[\"가맹점\"]\n",
        "  text = text.replace(\"(\",\"\")\n",
        "  text =text.replace(\")\",\"\")\n",
        "  text =text.replace(\"_\",\"\")\n",
        "  text =text.replace(\"-\",\"\")\n",
        "  text =text.replace(\"\\xa0\",\"\")\n",
        "  \n",
        "  morphs, poses = rhinoMorph.wholeResult_list(rn, text)\n",
        "\n",
        "  morphs_list.append(morphs)\n",
        "\n",
        "class_df[\"형태소키워드\"] = morphs_list\n",
        "\n",
        "class_df"
      ],
      "execution_count": 67,
      "outputs": [
        {
          "output_type": "execute_result",
          "data": {
            "text/html": [
              "<div>\n",
              "<style scoped>\n",
              "    .dataframe tbody tr th:only-of-type {\n",
              "        vertical-align: middle;\n",
              "    }\n",
              "\n",
              "    .dataframe tbody tr th {\n",
              "        vertical-align: top;\n",
              "    }\n",
              "\n",
              "    .dataframe thead th {\n",
              "        text-align: right;\n",
              "    }\n",
              "</style>\n",
              "<table border=\"1\" class=\"dataframe\">\n",
              "  <thead>\n",
              "    <tr style=\"text-align: right;\">\n",
              "      <th></th>\n",
              "      <th>대분류</th>\n",
              "      <th>소분류</th>\n",
              "      <th>가맹점</th>\n",
              "      <th>이용금액</th>\n",
              "      <th>형태소키워드</th>\n",
              "    </tr>\n",
              "  </thead>\n",
              "  <tbody>\n",
              "    <tr>\n",
              "      <th>0</th>\n",
              "      <td>음식</td>\n",
              "      <td>편의점</td>\n",
              "      <td>씨유 광명양지마을점</td>\n",
              "      <td>3000</td>\n",
              "      <td>[씨유, 광명, 을, 점]</td>\n",
              "    </tr>\n",
              "    <tr>\n",
              "      <th>1</th>\n",
              "      <td>음식</td>\n",
              "      <td>편의점</td>\n",
              "      <td>지에스(GS)25 신길역점</td>\n",
              "      <td>1800</td>\n",
              "      <td>[지, 에스, GS25, 신길역, 점]</td>\n",
              "    </tr>\n",
              "    <tr>\n",
              "      <th>2</th>\n",
              "      <td>음식</td>\n",
              "      <td>식당</td>\n",
              "      <td>택이네 조개전골 종로점</td>\n",
              "      <td>45000</td>\n",
              "      <td>[택이, 네, 조개, 로, 점]</td>\n",
              "    </tr>\n",
              "    <tr>\n",
              "      <th>3</th>\n",
              "      <td>음식</td>\n",
              "      <td>식당</td>\n",
              "      <td>쉐이크쉑 반포센트럴시티점</td>\n",
              "      <td>30000</td>\n",
              "      <td>[쉐이크, 쉑, 반포, 점]</td>\n",
              "    </tr>\n",
              "    <tr>\n",
              "      <th>4</th>\n",
              "      <td>음식</td>\n",
              "      <td>식당</td>\n",
              "      <td>한양중식</td>\n",
              "      <td>9500</td>\n",
              "      <td>[한양중]</td>\n",
              "    </tr>\n",
              "    <tr>\n",
              "      <th>...</th>\n",
              "      <td>...</td>\n",
              "      <td>...</td>\n",
              "      <td>...</td>\n",
              "      <td>...</td>\n",
              "      <td>...</td>\n",
              "    </tr>\n",
              "    <tr>\n",
              "      <th>97</th>\n",
              "      <td>건강</td>\n",
              "      <td>건강</td>\n",
              "      <td>광명파란문약국</td>\n",
              "      <td>3900</td>\n",
              "      <td>[광명, 파란, 약국]</td>\n",
              "    </tr>\n",
              "    <tr>\n",
              "      <th>98</th>\n",
              "      <td>건강</td>\n",
              "      <td>건강</td>\n",
              "      <td>행복한수약국</td>\n",
              "      <td>4400</td>\n",
              "      <td>[행복, 한수, 약국]</td>\n",
              "    </tr>\n",
              "    <tr>\n",
              "      <th>99</th>\n",
              "      <td>문화</td>\n",
              "      <td>문화</td>\n",
              "      <td>재단법인 태성문화재단</td>\n",
              "      <td>100</td>\n",
              "      <td>[재단법인, 태성, 문화, 재단]</td>\n",
              "    </tr>\n",
              "    <tr>\n",
              "      <th>100</th>\n",
              "      <td>문화</td>\n",
              "      <td>문화</td>\n",
              "      <td>랭귀지랩(LanguageLab)</td>\n",
              "      <td>3000</td>\n",
              "      <td>[랭귀지랩LANGUAGELAB]</td>\n",
              "    </tr>\n",
              "    <tr>\n",
              "      <th>101</th>\n",
              "      <td>문화</td>\n",
              "      <td>문화</td>\n",
              "      <td>서울올림픽기념국민체육진흥공단</td>\n",
              "      <td>4500</td>\n",
              "      <td>[서울, 올림픽, 기념, 국민체육진흥공단]</td>\n",
              "    </tr>\n",
              "  </tbody>\n",
              "</table>\n",
              "<p>102 rows × 5 columns</p>\n",
              "</div>"
            ],
            "text/plain": [
              "    대분류  소분류                가맹점   이용금액                   형태소키워드\n",
              "0    음식  편의점         씨유 광명양지마을점   3000           [씨유, 광명, 을, 점]\n",
              "1    음식  편의점     지에스(GS)25 신길역점   1800    [지, 에스, GS25, 신길역, 점]\n",
              "2    음식   식당       택이네 조개전골 종로점  45000        [택이, 네, 조개, 로, 점]\n",
              "3    음식   식당      쉐이크쉑 반포센트럴시티점  30000          [쉐이크, 쉑, 반포, 점]\n",
              "4    음식   식당               한양중식   9500                    [한양중]\n",
              "..   ..  ...                ...    ...                      ...\n",
              "97   건강   건강            광명파란문약국   3900             [광명, 파란, 약국]\n",
              "98   건강   건강             행복한수약국   4400             [행복, 한수, 약국]\n",
              "99   문화   문화        재단법인 태성문화재단    100       [재단법인, 태성, 문화, 재단]\n",
              "100  문화   문화  랭귀지랩(LanguageLab)   3000        [랭귀지랩LANGUAGELAB]\n",
              "101  문화   문화    서울올림픽기념국민체육진흥공단   4500  [서울, 올림픽, 기념, 국민체육진흥공단]\n",
              "\n",
              "[102 rows x 5 columns]"
            ]
          },
          "metadata": {
            "tags": []
          },
          "execution_count": 67
        }
      ]
    },
    {
      "cell_type": "code",
      "metadata": {
        "colab": {
          "base_uri": "https://localhost:8080/",
          "height": 390
        },
        "id": "kqDGxWQcLexr",
        "outputId": "477d21e2-e39a-4d89-ea5c-bdf85284012d"
      },
      "source": [
        "# 최빈 형태소 10위 추출\n",
        "morphs_keyword_list = []\n",
        "\n",
        "for i in class_df[\"형태소키워드\"]:\n",
        "  # i = i.replace(\"\\xa0\",\"\")\n",
        "  morphs_keyword_list.extend(i)\n",
        "  morphs_keyword_df = pd.DataFrame(morphs_keyword_list)\n",
        "\n",
        "pd.DataFrame(morphs_keyword_df.value_counts()).head(10)"
      ],
      "execution_count": 77,
      "outputs": [
        {
          "output_type": "execute_result",
          "data": {
            "text/html": [
              "<div>\n",
              "<style scoped>\n",
              "    .dataframe tbody tr th:only-of-type {\n",
              "        vertical-align: middle;\n",
              "    }\n",
              "\n",
              "    .dataframe tbody tr th {\n",
              "        vertical-align: top;\n",
              "    }\n",
              "\n",
              "    .dataframe thead th {\n",
              "        text-align: right;\n",
              "    }\n",
              "</style>\n",
              "<table border=\"1\" class=\"dataframe\">\n",
              "  <thead>\n",
              "    <tr style=\"text-align: right;\">\n",
              "      <th></th>\n",
              "      <th>0</th>\n",
              "    </tr>\n",
              "    <tr>\n",
              "      <th>0</th>\n",
              "      <th></th>\n",
              "    </tr>\n",
              "  </thead>\n",
              "  <tbody>\n",
              "    <tr>\n",
              "      <th>철도</th>\n",
              "      <td>17</td>\n",
              "    </tr>\n",
              "    <tr>\n",
              "      <th>한국</th>\n",
              "      <td>16</td>\n",
              "    </tr>\n",
              "    <tr>\n",
              "      <th>공사</th>\n",
              "      <td>16</td>\n",
              "    </tr>\n",
              "    <tr>\n",
              "      <th>주</th>\n",
              "      <td>16</td>\n",
              "    </tr>\n",
              "    <tr>\n",
              "      <th>주차장</th>\n",
              "      <td>14</td>\n",
              "    </tr>\n",
              "    <tr>\n",
              "      <th>점</th>\n",
              "      <td>12</td>\n",
              "    </tr>\n",
              "    <tr>\n",
              "      <th>이</th>\n",
              "      <td>11</td>\n",
              "    </tr>\n",
              "    <tr>\n",
              "      <th>그린</th>\n",
              "      <td>8</td>\n",
              "    </tr>\n",
              "    <tr>\n",
              "      <th>카</th>\n",
              "      <td>8</td>\n",
              "    </tr>\n",
              "    <tr>\n",
              "      <th>빌</th>\n",
              "      <td>7</td>\n",
              "    </tr>\n",
              "  </tbody>\n",
              "</table>\n",
              "</div>"
            ],
            "text/plain": [
              "      0\n",
              "0      \n",
              "철도   17\n",
              "한국   16\n",
              "공사   16\n",
              "주    16\n",
              "주차장  14\n",
              "점    12\n",
              "이    11\n",
              "그린    8\n",
              "카     8\n",
              "빌     7"
            ]
          },
          "metadata": {
            "tags": []
          },
          "execution_count": 77
        }
      ]
    },
    {
      "cell_type": "markdown",
      "metadata": {
        "id": "VQEHVjYEP9sK"
      },
      "source": [
        "# 02) 최빈 빈출 키워드 분석결과\n",
        "## 형태소로 분석한 주 소비군에서 키워드 선정\n",
        "- 최빈 빈출 키워드를 기반으로 분석했을 때, 이 고객은 교통부문에 가장 많은 돈을 소비하고 있다.\n",
        "\n",
        "- \"철도\" **>** #뚜벅이\n",
        "- \"주차장\", \"그린\", \"카\" **>** #렌트카, #운전자보험\n",
        "\n",
        "## 실제 카드사에서 제공하는 데이터를 활용하면\n",
        "- 더욱 정교한 형태소 분석기를 활용하면 더 정확한 키워드 분석 가능\n",
        "- 가맹점 정보가 더 많고 다양할수록 **불용어 처리, TF-IDF**를 통해 유의한 형태소만 추출한 후 분석하면 더욱 설득력 있는 키워드 추출 가능\n",
        "- 이러한 키워드 서칭 작업은 초기에는 마케팅, 기획 부서에서 인간의 주관에 따라 분류하고, 충분히 키워드 분류체계 라벨링 데이터가 확보되면 기계학습 분류 알고리즘으로 자동화 가능할 것이다.\n"
      ]
    }
  ]
}