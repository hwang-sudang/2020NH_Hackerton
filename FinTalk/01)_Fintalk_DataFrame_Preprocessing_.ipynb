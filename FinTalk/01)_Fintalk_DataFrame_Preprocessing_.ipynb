{
  "nbformat": 4,
  "nbformat_minor": 0,
  "metadata": {
    "colab": {
      "name": "01) Fintalk DataFrame Preprocessing .ipynb",
      "provenance": [],
      "collapsed_sections": [],
      "mount_file_id": "1lV3Qem-_MvvkVXRJDsKV4t6X0eymwp2S",
      "authorship_tag": "ABX9TyMqjxmHedNdKAF7nO3UnfMG",
      "include_colab_link": true
    },
    "kernelspec": {
      "name": "python3",
      "display_name": "Python 3"
    }
  },
  "cells": [
    {
      "cell_type": "markdown",
      "metadata": {
        "id": "view-in-github",
        "colab_type": "text"
      },
      "source": [
        "<a href=\"https://colab.research.google.com/github/hwang-sudang/2020NH_Hackerton/blob/main/FinTalk/01)_Fintalk_DataFrame_Preprocessing_.ipynb\" target=\"_parent\"><img src=\"https://colab.research.google.com/assets/colab-badge.svg\" alt=\"Open In Colab\"/></a>"
      ]
    },
    {
      "cell_type": "markdown",
      "metadata": {
        "id": "wfZ_SAhRyGrH"
      },
      "source": [
        "# GOOGLE DRIVE MOUNT"
      ]
    },
    {
      "cell_type": "code",
      "metadata": {
        "colab": {
          "base_uri": "https://localhost:8080/"
        },
        "id": "oVshfpW-onwO",
        "outputId": "08a65e1f-c664-48c5-b746-4928c8406efb"
      },
      "source": [
        "# data 불러오기\n",
        "from google.colab import drive\n",
        "drive.mount('/content/drive')"
      ],
      "execution_count": null,
      "outputs": [
        {
          "output_type": "stream",
          "text": [
            "Drive already mounted at /content/drive; to attempt to forcibly remount, call drive.mount(\"/content/drive\", force_remount=True).\n"
          ],
          "name": "stdout"
        }
      ]
    },
    {
      "cell_type": "code",
      "metadata": {
        "colab": {
          "base_uri": "https://localhost:8080/",
          "height": 136
        },
        "id": "o9-eO2mxqxxy",
        "outputId": "66245c7c-ee2e-4b1e-92ff-45665417fb9e"
      },
      "source": [
        "# 데이터 파일 경로 접속\n",
        "cd /content/drive/MyDrive/핀테크아카데미 /NH 농협 해커톤/FinTalk/Data"
      ],
      "execution_count": null,
      "outputs": [
        {
          "output_type": "error",
          "ename": "SyntaxError",
          "evalue": "ignored",
          "traceback": [
            "\u001b[0;36m  File \u001b[0;32m\"<ipython-input-12-d1dc5eef55a6>\"\u001b[0;36m, line \u001b[0;32m2\u001b[0m\n\u001b[0;31m    cd /content/drive/MyDrive/핀테크아카데미 /NH 농협 해커톤/FinTalk/Data\u001b[0m\n\u001b[0m                                                       ^\u001b[0m\n\u001b[0;31mSyntaxError\u001b[0m\u001b[0;31m:\u001b[0m invalid syntax\n"
          ]
        }
      ]
    },
    {
      "cell_type": "code",
      "metadata": {
        "colab": {
          "base_uri": "https://localhost:8080/",
          "height": 35
        },
        "id": "nwYfD04yyx01",
        "outputId": "ca5116c7-6011-4da5-9cdd-51a61b0ad701"
      },
      "source": [
        "import sys\n",
        "import os\n",
        "os.getcwd()"
      ],
      "execution_count": null,
      "outputs": [
        {
          "output_type": "execute_result",
          "data": {
            "application/vnd.google.colaboratory.intrinsic+json": {
              "type": "string"
            },
            "text/plain": [
              "'/content/drive/.shortcut-targets-by-id/226/핀테크아카데미 /NH 농협 해커톤/FinTalk/Data'"
            ]
          },
          "metadata": {
            "tags": []
          },
          "execution_count": 16
        }
      ]
    },
    {
      "cell_type": "markdown",
      "metadata": {
        "id": "9Ii7d8aiyGF4"
      },
      "source": [
        "# Git Clone, 폰트설치, 형태소분석기 설치"
      ]
    },
    {
      "cell_type": "code",
      "metadata": {
        "colab": {
          "base_uri": "https://localhost:8080/"
        },
        "id": "PAoCNBKht0Gl",
        "outputId": "fe692e81-5d12-46b6-995e-3512031dc197"
      },
      "source": [
        "# 카카오형태소 분석기 깃 클론\n",
        "!git clone https://github.com/kakao/khaiii.git"
      ],
      "execution_count": null,
      "outputs": [
        {
          "output_type": "stream",
          "text": [
            "Cloning into 'khaiii'...\n",
            "remote: Enumerating objects: 80, done.\u001b[K\n",
            "remote: Counting objects: 100% (80/80), done.\u001b[K\n",
            "remote: Compressing objects: 100% (59/59), done.\u001b[K\n",
            "remote: Total 957 (delta 25), reused 49 (delta 19), pack-reused 877\u001b[K\n",
            "Receiving objects: 100% (957/957), 33.03 MiB | 14.89 MiB/s, done.\n",
            "Resolving deltas: 100% (383/383), done.\n"
          ],
          "name": "stdout"
        }
      ]
    },
    {
      "cell_type": "code",
      "metadata": {
        "id": "pr_6lTKNutSF"
      },
      "source": [
        "# 한글 표현을 위해 폰트 설치\n",
        "import matplotlib.pyplot as plt\n",
        "import matplotlib as mpl\n",
        "import matplotlib.font_manager as fm\n",
        "\n",
        "\n",
        "# 그래프에서 한글표현을 위해 폰트를 설치\n",
        "%config inlineBackend.figure_format = \"retina\"\n",
        "!apt-get -qq -y install fonts-nanum > /dev/null\n",
        "fontpath = '/usr/share/fonts/truetype/nanum/NanumBarunGothic.ttf'\n",
        "font = fm.FontProperties(fname=fontpath, size=9)\n",
        "\n",
        "# 기본 글꼴 변경\n",
        "mpl.pyplot.rc('font', family='NanumBarunGothic')\n",
        "mpl.font_manager._rebuild()"
      ],
      "execution_count": null,
      "outputs": []
    },
    {
      "cell_type": "code",
      "metadata": {
        "id": "PedFpy5Kxv5n"
      },
      "source": [
        "# 형태소분석기 관련 설치\n",
        "!apt-get update\n",
        "!apt-get install g++ openjdk-8-jdk\n",
        "\n",
        "!pip install JPype1==0.7.4\n",
        "!pip install rhincMorph"
      ],
      "execution_count": null,
      "outputs": []
    },
    {
      "cell_type": "markdown",
      "metadata": {
        "id": "EmLWB4AzySWn"
      },
      "source": [
        "# Import packages"
      ]
    },
    {
      "cell_type": "code",
      "metadata": {
        "id": "FbZpCwh1qxvA"
      },
      "source": [
        "import pandas as pd\n",
        "import khaiii\n"
      ],
      "execution_count": null,
      "outputs": []
    },
    {
      "cell_type": "code",
      "metadata": {
        "colab": {
          "base_uri": "https://localhost:8080/"
        },
        "id": "W49CHhRlxv79",
        "outputId": "0e0dae73-5f02-45a1-f0c4-1e7023423ee2"
      },
      "source": [
        "!ls"
      ],
      "execution_count": null,
      "outputs": [
        {
          "output_type": "stream",
          "text": [
            " 202008_usage.xlsx\n",
            "'농협 주택화재보험_약관(20201101).doc'\n",
            "'농협 주택화재보험_약관(20201101).pdf'\n",
            " 202012_usage.xlsx\n",
            "'현대해상 여행자보험 약관.doc'\n",
            "'삼성화재 여행자보험.doc'\n",
            "'삼성화재 주택화재보험.doc'\n",
            "'한화생명 e연금저축보험(무)_1772-025_028_약관_20200401_           (2).doc'\n",
            " 보험링크.gdoc\n",
            "'IBK 연금저축형보험.txt'\n",
            " khaiii\n",
            "'NH온라인연금저축보험(무배당)_2002_인쇄용 약관_v1_0204.doc'\n",
            "'농협_무배당 NH지킴이재산종합보험2004_약관.doc'\n",
            "'농협_무배당 NH지킴이재산종합보험2004_약관.pdf'\n",
            " on-off여행자보험.gdoc\n",
            " on-off여행자보험.txt\n",
            "'현대해상 여행자보험 약관.pdf'\n",
            "'삼성화재 여행자보험.pdf'\n",
            "'삼성화재 주택화재보험.pdf'\n",
            " TF-IDF.docx\n",
            "'감성분석 링크.txt'\n",
            "'보험약관 TXT'\n",
            "'이용대금명세서(신용카드).xls'\n",
            " 여지헌카드내역.xlsx\n"
          ],
          "name": "stdout"
        }
      ]
    },
    {
      "cell_type": "code",
      "metadata": {
        "id": "cmUvJseTtph7"
      },
      "source": [
        "card2012 = pd.read_excel(\"202012_usage.xlsx\")\n",
        "card2008 = pd.read_excel(\"202008_usage.xlsx\")"
      ],
      "execution_count": null,
      "outputs": []
    },
    {
      "cell_type": "code",
      "metadata": {
        "id": "3JJGOfTR4sgL"
      },
      "source": [
        "# DataFrame 정리\n",
        "\n",
        "def card_preprocessing_1(card_df):\n",
        "  card2012_df = card_df[[\"Unnamed: 1\", \"Unnamed: 2\", \"Unnamed: 4\", \"Unnamed: 6\"]]\n",
        "  card2012_df.columns = [\"이용일자\",\"이용카드\",\"가맹점\",\"이용금액\"]\n",
        "\n",
        "  card2012_df_1 = card2012_df[2:].copy()\n",
        "  card2012_df_1.reset_index(inplace=True)\n",
        "  card2012_df_1.drop([\"index\"], axis=1, inplace=True)\n",
        "  \n",
        "  return card2012_df_1\n",
        "  #card2012_df_1.head()\n",
        "\n"
      ],
      "execution_count": null,
      "outputs": []
    },
    {
      "cell_type": "code",
      "metadata": {
        "id": "QT5GkC181CW4"
      },
      "source": [
        "card2012_df = card2012[[\"Unnamed: 1\", \"Unnamed: 2\", \"Unnamed: 4\", \"Unnamed: 6\"]]\n",
        "card2012_df.columns =  [\"이용일자\",\"이용카드\",\"가맹점\",\"이용금액\"]"
      ],
      "execution_count": null,
      "outputs": []
    },
    {
      "cell_type": "code",
      "metadata": {
        "colab": {
          "base_uri": "https://localhost:8080/",
          "height": 204
        },
        "id": "STPzuR0G2qDF",
        "outputId": "611f7cd4-beea-45c4-84c7-4197853c02c6"
      },
      "source": [
        "card2012_df_1 = card2012_df[2:].copy()\n",
        "card2012_df_1.reset_index(inplace=True)\n",
        "card2012_df_1.drop([\"index\"], axis=1, inplace=True)\n",
        "card2012_df_1.head()"
      ],
      "execution_count": null,
      "outputs": [
        {
          "output_type": "execute_result",
          "data": {
            "text/html": [
              "<div>\n",
              "<style scoped>\n",
              "    .dataframe tbody tr th:only-of-type {\n",
              "        vertical-align: middle;\n",
              "    }\n",
              "\n",
              "    .dataframe tbody tr th {\n",
              "        vertical-align: top;\n",
              "    }\n",
              "\n",
              "    .dataframe thead th {\n",
              "        text-align: right;\n",
              "    }\n",
              "</style>\n",
              "<table border=\"1\" class=\"dataframe\">\n",
              "  <thead>\n",
              "    <tr style=\"text-align: right;\">\n",
              "      <th></th>\n",
              "      <th>이용일자</th>\n",
              "      <th>이용카드</th>\n",
              "      <th>가맹점</th>\n",
              "      <th>이용금액</th>\n",
              "    </tr>\n",
              "  </thead>\n",
              "  <tbody>\n",
              "    <tr>\n",
              "      <th>0</th>\n",
              "      <td>20.10.27</td>\n",
              "      <td>마스터078</td>\n",
              "      <td>씨유 광명양지마을점</td>\n",
              "      <td>3,000</td>\n",
              "    </tr>\n",
              "    <tr>\n",
              "      <th>1</th>\n",
              "      <td>20.10.28</td>\n",
              "      <td>마스터078</td>\n",
              "      <td>NICE(빌링)-(주)모두의주차장</td>\n",
              "      <td>5,000</td>\n",
              "    </tr>\n",
              "    <tr>\n",
              "      <th>2</th>\n",
              "      <td>20.10.28</td>\n",
              "      <td>마스터078</td>\n",
              "      <td>택이네 조개전골 종로점</td>\n",
              "      <td>45,000</td>\n",
              "    </tr>\n",
              "    <tr>\n",
              "      <th>3</th>\n",
              "      <td>20.10.28</td>\n",
              "      <td>마스터078</td>\n",
              "      <td>교보문고</td>\n",
              "      <td>22,000</td>\n",
              "    </tr>\n",
              "    <tr>\n",
              "      <th>4</th>\n",
              "      <td>20.10.31</td>\n",
              "      <td>마스터078</td>\n",
              "      <td>안양원예농업협동조합 주유소</td>\n",
              "      <td>10,000</td>\n",
              "    </tr>\n",
              "  </tbody>\n",
              "</table>\n",
              "</div>"
            ],
            "text/plain": [
              "       이용일자    이용카드                 가맹점    이용금액\n",
              "0  20.10.27  마스터078          씨유 광명양지마을점   3,000\n",
              "1  20.10.28  마스터078  NICE(빌링)-(주)모두의주차장   5,000\n",
              "2  20.10.28  마스터078        택이네 조개전골 종로점  45,000\n",
              "3  20.10.28  마스터078                교보문고  22,000\n",
              "4  20.10.31  마스터078      안양원예농업협동조합 주유소  10,000"
            ]
          },
          "metadata": {
            "tags": []
          },
          "execution_count": 46
        }
      ]
    },
    {
      "cell_type": "code",
      "metadata": {
        "id": "6scewPuj4Qpv"
      },
      "source": [
        "# 카드데이터 정리\n",
        "card_1_202012 = card_preprocessing_1(card2012)\n",
        "card_1_202008 = card_preprocessing_1(card2008)"
      ],
      "execution_count": null,
      "outputs": []
    },
    {
      "cell_type": "code",
      "metadata": {
        "colab": {
          "base_uri": "https://localhost:8080/",
          "height": 762
        },
        "id": "lz6yT4BhzUMy",
        "outputId": "a531956e-0569-4570-97e8-43d56bf38498"
      },
      "source": [
        "card_2 = pd.read_excel(\"여지헌카드내역.xlsx\")\n",
        "card_2.columns = [\"이용일자\",\"이용카드\",\"가맹점\",\"이용금액\"]\n",
        "card_2"
      ],
      "execution_count": null,
      "outputs": [
        {
          "output_type": "execute_result",
          "data": {
            "text/html": [
              "<div>\n",
              "<style scoped>\n",
              "    .dataframe tbody tr th:only-of-type {\n",
              "        vertical-align: middle;\n",
              "    }\n",
              "\n",
              "    .dataframe tbody tr th {\n",
              "        vertical-align: top;\n",
              "    }\n",
              "\n",
              "    .dataframe thead th {\n",
              "        text-align: right;\n",
              "    }\n",
              "</style>\n",
              "<table border=\"1\" class=\"dataframe\">\n",
              "  <thead>\n",
              "    <tr style=\"text-align: right;\">\n",
              "      <th></th>\n",
              "      <th>이용일자</th>\n",
              "      <th>이용카드</th>\n",
              "      <th>가맹점</th>\n",
              "      <th>이용금액</th>\n",
              "    </tr>\n",
              "  </thead>\n",
              "  <tbody>\n",
              "    <tr>\n",
              "      <th>0</th>\n",
              "      <td>2020-10-08</td>\n",
              "      <td>본인999</td>\n",
              "      <td>행복한수약국</td>\n",
              "      <td>4400</td>\n",
              "    </tr>\n",
              "    <tr>\n",
              "      <th>1</th>\n",
              "      <td>2020-10-08</td>\n",
              "      <td>본인191</td>\n",
              "      <td>(주)그린카</td>\n",
              "      <td>2717</td>\n",
              "    </tr>\n",
              "    <tr>\n",
              "      <th>2</th>\n",
              "      <td>2020-10-08</td>\n",
              "      <td>본인191</td>\n",
              "      <td>(주)그린카</td>\n",
              "      <td>840</td>\n",
              "    </tr>\n",
              "    <tr>\n",
              "      <th>3</th>\n",
              "      <td>2020-10-09</td>\n",
              "      <td>본인191</td>\n",
              "      <td>쿠팡(쿠페이)</td>\n",
              "      <td>2900</td>\n",
              "    </tr>\n",
              "    <tr>\n",
              "      <th>4</th>\n",
              "      <td>2020-10-27</td>\n",
              "      <td>본인999</td>\n",
              "      <td>여의도권초밥</td>\n",
              "      <td>30000</td>\n",
              "    </tr>\n",
              "    <tr>\n",
              "      <th>5</th>\n",
              "      <td>2020-10-27</td>\n",
              "      <td>본인999</td>\n",
              "      <td>(주)우아한형제들</td>\n",
              "      <td>9340</td>\n",
              "    </tr>\n",
              "    <tr>\n",
              "      <th>6</th>\n",
              "      <td>2020-10-27</td>\n",
              "      <td>본인999</td>\n",
              "      <td>정기과금_KICC_3</td>\n",
              "      <td>1800</td>\n",
              "    </tr>\n",
              "    <tr>\n",
              "      <th>7</th>\n",
              "      <td>2020-10-28</td>\n",
              "      <td>본인999</td>\n",
              "      <td>파스쿠찌</td>\n",
              "      <td>9000</td>\n",
              "    </tr>\n",
              "    <tr>\n",
              "      <th>8</th>\n",
              "      <td>2020-10-29</td>\n",
              "      <td>본인999</td>\n",
              "      <td>바르다김선생 여의도 KBS별관점</td>\n",
              "      <td>16300</td>\n",
              "    </tr>\n",
              "    <tr>\n",
              "      <th>9</th>\n",
              "      <td>2020-10-29</td>\n",
              "      <td>본인999</td>\n",
              "      <td>(주)우아한형제들</td>\n",
              "      <td>11708</td>\n",
              "    </tr>\n",
              "    <tr>\n",
              "      <th>10</th>\n",
              "      <td>2020-10-30</td>\n",
              "      <td>본인999</td>\n",
              "      <td>지에스(GS)25 신길역점</td>\n",
              "      <td>1800</td>\n",
              "    </tr>\n",
              "    <tr>\n",
              "      <th>11</th>\n",
              "      <td>2020-10-30</td>\n",
              "      <td>본인999</td>\n",
              "      <td>(주)우아한형제들</td>\n",
              "      <td>10800</td>\n",
              "    </tr>\n",
              "    <tr>\n",
              "      <th>12</th>\n",
              "      <td>2020-10-30</td>\n",
              "      <td>본인191</td>\n",
              "      <td>(주)그린카</td>\n",
              "      <td>3309</td>\n",
              "    </tr>\n",
              "    <tr>\n",
              "      <th>13</th>\n",
              "      <td>2020-10-30</td>\n",
              "      <td>본인191</td>\n",
              "      <td>(주)그린카</td>\n",
              "      <td>1120</td>\n",
              "    </tr>\n",
              "    <tr>\n",
              "      <th>14</th>\n",
              "      <td>2020-10-30</td>\n",
              "      <td>본인191</td>\n",
              "      <td>(주)그린카</td>\n",
              "      <td>4490</td>\n",
              "    </tr>\n",
              "    <tr>\n",
              "      <th>15</th>\n",
              "      <td>2020-10-30</td>\n",
              "      <td>본인191</td>\n",
              "      <td>(주)그린카</td>\n",
              "      <td>960</td>\n",
              "    </tr>\n",
              "    <tr>\n",
              "      <th>16</th>\n",
              "      <td>2020-11-02</td>\n",
              "      <td>본인999</td>\n",
              "      <td>크린에이드</td>\n",
              "      <td>6000</td>\n",
              "    </tr>\n",
              "    <tr>\n",
              "      <th>17</th>\n",
              "      <td>2020-11-03</td>\n",
              "      <td>본인999</td>\n",
              "      <td>투썸플레이스 여의도롯데캐슬아이?</td>\n",
              "      <td>5800</td>\n",
              "    </tr>\n",
              "    <tr>\n",
              "      <th>18</th>\n",
              "      <td>2020-11-04</td>\n",
              "      <td>본인999</td>\n",
              "      <td>진주식당</td>\n",
              "      <td>20000</td>\n",
              "    </tr>\n",
              "    <tr>\n",
              "      <th>19</th>\n",
              "      <td>2020-11-04</td>\n",
              "      <td>본인999</td>\n",
              "      <td>카카오헤어샵_카카오페이</td>\n",
              "      <td>28000</td>\n",
              "    </tr>\n",
              "    <tr>\n",
              "      <th>20</th>\n",
              "      <td>2020-11-08</td>\n",
              "      <td>본인191</td>\n",
              "      <td>(주)그린카</td>\n",
              "      <td>4060</td>\n",
              "    </tr>\n",
              "    <tr>\n",
              "      <th>21</th>\n",
              "      <td>2020-11-08</td>\n",
              "      <td>본인191</td>\n",
              "      <td>(주)그린카</td>\n",
              "      <td>1120</td>\n",
              "    </tr>\n",
              "    <tr>\n",
              "      <th>22</th>\n",
              "      <td>2020-11-09</td>\n",
              "      <td>본인191</td>\n",
              "      <td>쿠팡(쿠페이)</td>\n",
              "      <td>2900</td>\n",
              "    </tr>\n",
              "  </tbody>\n",
              "</table>\n",
              "</div>"
            ],
            "text/plain": [
              "         이용일자   이용카드                가맹점   이용금액\n",
              "0  2020-10-08  본인999             행복한수약국   4400\n",
              "1  2020-10-08  본인191             (주)그린카   2717\n",
              "2  2020-10-08  본인191             (주)그린카    840\n",
              "3  2020-10-09  본인191            쿠팡(쿠페이)   2900\n",
              "4  2020-10-27  본인999             여의도권초밥  30000\n",
              "5  2020-10-27  본인999          (주)우아한형제들   9340\n",
              "6  2020-10-27  본인999        정기과금_KICC_3   1800\n",
              "7  2020-10-28  본인999               파스쿠찌   9000\n",
              "8  2020-10-29  본인999  바르다김선생 여의도 KBS별관점  16300\n",
              "9  2020-10-29  본인999          (주)우아한형제들  11708\n",
              "10 2020-10-30  본인999     지에스(GS)25 신길역점   1800\n",
              "11 2020-10-30  본인999          (주)우아한형제들  10800\n",
              "12 2020-10-30  본인191             (주)그린카   3309\n",
              "13 2020-10-30  본인191             (주)그린카   1120\n",
              "14 2020-10-30  본인191             (주)그린카   4490\n",
              "15 2020-10-30  본인191             (주)그린카    960\n",
              "16 2020-11-02  본인999              크린에이드   6000\n",
              "17 2020-11-03  본인999  투썸플레이스 여의도롯데캐슬아이?   5800\n",
              "18 2020-11-04  본인999               진주식당  20000\n",
              "19 2020-11-04  본인999       카카오헤어샵_카카오페이  28000\n",
              "20 2020-11-08  본인191             (주)그린카   4060\n",
              "21 2020-11-08  본인191             (주)그린카   1120\n",
              "22 2020-11-09  본인191            쿠팡(쿠페이)   2900"
            ]
          },
          "metadata": {
            "tags": []
          },
          "execution_count": 65
        }
      ]
    },
    {
      "cell_type": "markdown",
      "metadata": {
        "id": "wlm3V8_8pumn"
      },
      "source": [
        "# 붙인 데이터 저장"
      ]
    },
    {
      "cell_type": "code",
      "metadata": {
        "id": "xg95aOVI0mSW"
      },
      "source": [
        "# card_1_202012, card_1_202008, card_2\n",
        "card_all_data = pd.concat([card_1_202012, card_2, card_1_202008])\n",
        "card_all_data\n",
        "\n",
        "card_all_data.to_excel(\"card_all_data.xlsx\")"
      ],
      "execution_count": null,
      "outputs": []
    },
    {
      "cell_type": "code",
      "metadata": {
        "id": "RQvTaAzkCOAZ"
      },
      "source": [
        ""
      ],
      "execution_count": null,
      "outputs": []
    }
  ]
}